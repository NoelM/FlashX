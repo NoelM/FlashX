{
 "cells": [
  {
   "cell_type": "code",
   "execution_count": 1,
   "metadata": {},
   "outputs": [
    {
     "name": "stderr",
     "output_type": "stream",
     "text": [
      "Loading required package: RSpectra\n",
      "Loading required package: Rcpp\n",
      "\n",
      "Attaching package: 'FlashR'\n",
      "\n",
      "The following objects are masked from 'package:base':\n",
      "\n",
      "    cbind, pmax, pmin, rbind\n",
      "\n"
     ]
    }
   ],
   "source": [
    "library(FlashR)\n",
    "fm.set.conf(\"/FlashX/matrix/conf/run_test.txt\")"
   ]
  },
  {
   "cell_type": "code",
   "execution_count": 2,
   "metadata": {
    "collapsed": true
   },
   "outputs": [],
   "source": [
    "df <- read.csv(url(\"http://neurodata-public-lol.s3-website-us-east-1.amazonaws.com/ndmg.csv\"))\n",
    "files <- read.csv(url(\"http://neurodata-public-lol.s3-website-us-east-1.amazonaws.com/files.txt\"), header=FALSE)"
   ]
  },
  {
   "cell_type": "code",
   "execution_count": null,
   "metadata": {},
   "outputs": [],
   "source": [
    "vs <- list()\n",
    "mats <- list()\n",
    "num <- 0\n",
    "labels <- rep.int(0, length(df$Sex))\n",
    "for (idx in 1:length(df$URSI)) {\n",
    "    id <- as.character(df$URSI[idx])\n",
    "    file <- paste(\"MRN114_\", id, \"_1_DTI_aligned.dat.gz\", sep=\"\")\n",
    "    path <- paste(\"http://neurodata-public-lol.s3-website-us-east-1.amazonaws.com/\",\n",
    "                  file, sep=\"\")\n",
    "    if (file %in% files$V1) {\n",
    "        print(path)\n",
    "        conn <- gzcon(url(path))\n",
    "        v <- fm.load.dense.matrix.bin(conn, TRUE, 505472240, 1, FALSE, \"F\", id)\n",
    "        if (!is.null(v)) {\n",
    "            num <- num + 1\n",
    "            vs <- c(vs, v)\n",
    "            labels[num] <- df$Sex[idx]\n",
    "        }\n",
    "        close(conn)\n",
    "    }\n",
    "    if (length(vs) >= 16) {\n",
    "        mat <- fm.cbind.list(vs)\n",
    "        vs <- list()\n",
    "        mat <- fm.conv.store(mat, in.mem=FALSE,\n",
    "                             name=paste(\"MRN-\", length(mats), \".mat\", sep=\"\"))\n",
    "        mats <- c(mats, mat)\n",
    "        gc()\n",
    "    }\n",
    "}\n",
    "if (length(vs) > 0) {\n",
    "    mat <- fm.cbind.list(vs)\n",
    "    vs <- list()\n",
    "    mat <- fm.conv.store(mat, in.mem = FALSE,\n",
    "                        name=paste(\"MRN-\", length(mats), \".mat\", sep=\"\"))\n",
    "    mats <- c(mats, mat)\n",
    "    gc()\n",
    "}\n",
    "data <- fm.cbind.list(mats)\n"
   ]
  },
  {
   "cell_type": "code",
   "execution_count": null,
   "metadata": {
    "collapsed": true
   },
   "outputs": [],
   "source": []
  }
 ],
 "metadata": {
  "kernelspec": {
   "display_name": "R",
   "language": "R",
   "name": "ir"
  },
  "language_info": {
   "codemirror_mode": "r",
   "file_extension": ".r",
   "mimetype": "text/x-r-source",
   "name": "R",
   "pygments_lexer": "r",
   "version": "3.4.0"
  }
 },
 "nbformat": 4,
 "nbformat_minor": 2
}
