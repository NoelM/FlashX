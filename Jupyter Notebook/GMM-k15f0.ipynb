{
 "cells": [
  {
   "cell_type": "code",
   "execution_count": 1,
   "metadata": {},
   "outputs": [
    {
     "name": "stderr",
     "output_type": "stream",
     "text": [
      "Loading required package: pcg\n",
      "Loading required package: FlashR\n",
      "Loading required package: RSpectra\n",
      "Loading required package: Rcpp\n",
      "\n",
      "Attaching package: 'FlashR'\n",
      "\n",
      "The following objects are masked from 'package:base':\n",
      "\n",
      "    cbind, pmax, pmin, rbind\n",
      "\n"
     ]
    }
   ],
   "source": [
    "library(rhdf5)\n",
    "library(FlashRLearn)"
   ]
  },
  {
   "cell_type": "code",
   "execution_count": 2,
   "metadata": {},
   "outputs": [
    {
     "ename": "ERROR",
     "evalue": "Error in h5checktypeOrOpenLoc(file, readonly = TRUE): Error in h5checktypeOrOpenLoc(). Cannot open file. File '/zhengda/k15f0.h5' does not exist.\n",
     "output_type": "error",
     "traceback": [
      "Error in h5checktypeOrOpenLoc(file, readonly = TRUE): Error in h5checktypeOrOpenLoc(). Cannot open file. File '/zhengda/k15f0.h5' does not exist.\nTraceback:\n",
      "1. h5read(\"/zhengda/k15f0.h5\", \"datatable/F0\")",
      "2. h5checktypeOrOpenLoc(file, readonly = TRUE)",
      "3. stop(\"Error in \", fctname, \". Cannot open file. File '\", file, \n .     \"' does not exist.\")"
     ]
    }
   ],
   "source": [
    "data <- h5read(\"/zhengda/k15f0.h5\", \"datatable/F0\")\n",
    "fm.data <- fm.as.matrix(as.matrix(data))"
   ]
  },
  {
   "cell_type": "code",
   "execution_count": 3,
   "metadata": {
    "collapsed": true
   },
   "outputs": [],
   "source": [
    "source(\"/FlashX/FlashR-learn/R/GMM.R\")"
   ]
  },
  {
   "cell_type": "code",
   "execution_count": 4,
   "metadata": {},
   "outputs": [
    {
     "ename": "ERROR",
     "evalue": "Error in GMM.fit(fm.data, k = k, cov.type = \"diag\"): object 'fm.data' not found\n",
     "output_type": "error",
     "traceback": [
      "Error in GMM.fit(fm.data, k = k, cov.type = \"diag\"): object 'fm.data' not found\nTraceback:\n",
      "1. GMM.fit(fm.data, k = k, cov.type = \"diag\")",
      "2. init.params(X, k, reg.covar, method, cov.type)",
      "3. nrow(X)"
     ]
    }
   ],
   "source": [
    "ks <- seq(from=2, to=40, by=2)\n",
    "scores <- matrix(0, nrow=length(ks), 2)\n",
    "for (k in ks) {\n",
    "    res <- GMM.fit(fm.data, k=k, cov.type = \"diag\")\n",
    "    scores[k/2, 1] <- BIC(res)\n",
    "    print(paste(\"diag: k=\",k,\", BIC=\", scores[k/2,1], sep=\"\"))\n",
    "}"
   ]
  },
  {
   "cell_type": "code",
   "execution_count": 5,
   "metadata": {},
   "outputs": [
    {
     "data": {
      "text/html": [
       "<table>\n",
       "<thead><tr><th></th><th scope=col>used</th><th scope=col>(Mb)</th><th scope=col>gc trigger</th><th scope=col>(Mb)</th><th scope=col>max used</th><th scope=col>(Mb)</th></tr></thead>\n",
       "<tbody>\n",
       "\t<tr><th scope=row>Ncells</th><td>1444658</td><td>77.2   </td><td>2164898</td><td>115.7  </td><td>1998765</td><td>106.8  </td></tr>\n",
       "\t<tr><th scope=row>Vcells</th><td>1443670</td><td>11.1   </td><td>2381921</td><td> 18.2  </td><td>1943068</td><td> 14.9  </td></tr>\n",
       "</tbody>\n",
       "</table>\n"
      ],
      "text/latex": [
       "\\begin{tabular}{r|llllll}\n",
       "  & used & (Mb) & gc trigger & (Mb) & max used & (Mb)\\\\\n",
       "\\hline\n",
       "\tNcells & 1444658 & 77.2    & 2164898 & 115.7   & 1998765 & 106.8  \\\\\n",
       "\tVcells & 1443670 & 11.1    & 2381921 &  18.2   & 1943068 &  14.9  \\\\\n",
       "\\end{tabular}\n"
      ],
      "text/markdown": [
       "\n",
       "| <!--/--> | used | (Mb) | gc trigger | (Mb) | max used | (Mb) | \n",
       "|---|---|\n",
       "| Ncells | 1444658 | 77.2    | 2164898 | 115.7   | 1998765 | 106.8   | \n",
       "| Vcells | 1443670 | 11.1    | 2381921 |  18.2   | 1943068 |  14.9   | \n",
       "\n",
       "\n"
      ],
      "text/plain": [
       "       used    (Mb) gc trigger (Mb)  max used (Mb) \n",
       "Ncells 1444658 77.2 2164898    115.7 1998765  106.8\n",
       "Vcells 1443670 11.1 2381921     18.2 1943068   14.9"
      ]
     },
     "metadata": {},
     "output_type": "display_data"
    }
   ],
   "source": [
    "gc()"
   ]
  },
  {
   "cell_type": "code",
   "execution_count": 6,
   "metadata": {},
   "outputs": [
    {
     "ename": "ERROR",
     "evalue": "Error in GMM.fit(fm.data, k = k, cov.type = \"full\"): object 'fm.data' not found\n",
     "output_type": "error",
     "traceback": [
      "Error in GMM.fit(fm.data, k = k, cov.type = \"full\"): object 'fm.data' not found\nTraceback:\n",
      "1. GMM.fit(fm.data, k = k, cov.type = \"full\")",
      "2. init.params(X, k, reg.covar, method, cov.type)",
      "3. nrow(X)"
     ]
    }
   ],
   "source": [
    "for (k in ks) {\n",
    "    res <- GMM.fit(fm.data, k=k, cov.type = \"full\")\n",
    "    scores[k/2, 2] <- BIC(res)\n",
    "    print(paste(\"full: k=\",k,\", BIC=\", scores[k/2,2], sep=\"\"))\n",
    "}"
   ]
  },
  {
   "cell_type": "code",
   "execution_count": 7,
   "metadata": {},
   "outputs": [
    {
     "data": {
      "text/html": [
       "<table>\n",
       "<tbody>\n",
       "\t<tr><td>0</td><td>0</td></tr>\n",
       "\t<tr><td>0</td><td>0</td></tr>\n",
       "\t<tr><td>0</td><td>0</td></tr>\n",
       "\t<tr><td>0</td><td>0</td></tr>\n",
       "\t<tr><td>0</td><td>0</td></tr>\n",
       "\t<tr><td>0</td><td>0</td></tr>\n",
       "\t<tr><td>0</td><td>0</td></tr>\n",
       "\t<tr><td>0</td><td>0</td></tr>\n",
       "\t<tr><td>0</td><td>0</td></tr>\n",
       "\t<tr><td>0</td><td>0</td></tr>\n",
       "\t<tr><td>0</td><td>0</td></tr>\n",
       "\t<tr><td>0</td><td>0</td></tr>\n",
       "\t<tr><td>0</td><td>0</td></tr>\n",
       "\t<tr><td>0</td><td>0</td></tr>\n",
       "\t<tr><td>0</td><td>0</td></tr>\n",
       "\t<tr><td>0</td><td>0</td></tr>\n",
       "\t<tr><td>0</td><td>0</td></tr>\n",
       "\t<tr><td>0</td><td>0</td></tr>\n",
       "\t<tr><td>0</td><td>0</td></tr>\n",
       "\t<tr><td>0</td><td>0</td></tr>\n",
       "</tbody>\n",
       "</table>\n"
      ],
      "text/latex": [
       "\\begin{tabular}{ll}\n",
       "\t 0 & 0\\\\\n",
       "\t 0 & 0\\\\\n",
       "\t 0 & 0\\\\\n",
       "\t 0 & 0\\\\\n",
       "\t 0 & 0\\\\\n",
       "\t 0 & 0\\\\\n",
       "\t 0 & 0\\\\\n",
       "\t 0 & 0\\\\\n",
       "\t 0 & 0\\\\\n",
       "\t 0 & 0\\\\\n",
       "\t 0 & 0\\\\\n",
       "\t 0 & 0\\\\\n",
       "\t 0 & 0\\\\\n",
       "\t 0 & 0\\\\\n",
       "\t 0 & 0\\\\\n",
       "\t 0 & 0\\\\\n",
       "\t 0 & 0\\\\\n",
       "\t 0 & 0\\\\\n",
       "\t 0 & 0\\\\\n",
       "\t 0 & 0\\\\\n",
       "\\end{tabular}\n"
      ],
      "text/markdown": [
       "\n",
       "| 0 | 0 | \n",
       "| 0 | 0 | \n",
       "| 0 | 0 | \n",
       "| 0 | 0 | \n",
       "| 0 | 0 | \n",
       "| 0 | 0 | \n",
       "| 0 | 0 | \n",
       "| 0 | 0 | \n",
       "| 0 | 0 | \n",
       "| 0 | 0 | \n",
       "| 0 | 0 | \n",
       "| 0 | 0 | \n",
       "| 0 | 0 | \n",
       "| 0 | 0 | \n",
       "| 0 | 0 | \n",
       "| 0 | 0 | \n",
       "| 0 | 0 | \n",
       "| 0 | 0 | \n",
       "| 0 | 0 | \n",
       "| 0 | 0 | \n",
       "\n",
       "\n"
      ],
      "text/plain": [
       "      [,1] [,2]\n",
       " [1,] 0    0   \n",
       " [2,] 0    0   \n",
       " [3,] 0    0   \n",
       " [4,] 0    0   \n",
       " [5,] 0    0   \n",
       " [6,] 0    0   \n",
       " [7,] 0    0   \n",
       " [8,] 0    0   \n",
       " [9,] 0    0   \n",
       "[10,] 0    0   \n",
       "[11,] 0    0   \n",
       "[12,] 0    0   \n",
       "[13,] 0    0   \n",
       "[14,] 0    0   \n",
       "[15,] 0    0   \n",
       "[16,] 0    0   \n",
       "[17,] 0    0   \n",
       "[18,] 0    0   \n",
       "[19,] 0    0   \n",
       "[20,] 0    0   "
      ]
     },
     "metadata": {},
     "output_type": "display_data"
    }
   ],
   "source": [
    "scores"
   ]
  },
  {
   "cell_type": "code",
   "execution_count": null,
   "metadata": {
    "collapsed": true
   },
   "outputs": [],
   "source": []
  }
 ],
 "metadata": {
  "kernelspec": {
   "display_name": "R",
   "language": "R",
   "name": "ir"
  },
  "language_info": {
   "codemirror_mode": "r",
   "file_extension": ".r",
   "mimetype": "text/x-r-source",
   "name": "R",
   "pygments_lexer": "r",
   "version": "3.4.0"
  }
 },
 "nbformat": 4,
 "nbformat_minor": 2
}
