{
 "cells": [
  {
   "cell_type": "code",
   "execution_count": 1,
   "metadata": {},
   "outputs": [
    {
     "name": "stderr",
     "output_type": "stream",
     "text": [
      "Loading required package: pcg\n",
      "Loading required package: FlashR\n",
      "Loading required package: RSpectra\n",
      "Loading required package: Rcpp\n",
      "\n",
      "Attaching package: 'FlashR'\n",
      "\n",
      "The following objects are masked from 'package:base':\n",
      "\n",
      "    cbind, pmax, pmin, rbind\n",
      "\n"
     ]
    }
   ],
   "source": [
    "library(FlashRLearn)\n",
    "fm.set.conf(\"/FlashX/EC2/run_matrix.txt\")"
   ]
  },
  {
   "cell_type": "code",
   "execution_count": 2,
   "metadata": {
    "collapsed": true
   },
   "outputs": [],
   "source": [
    "data <- fm.runif.matrix(325000000, 40, min = 0, max=1000)\n",
    "data <- as.integer(data)\n",
    "data <- fm.materialize(data)"
   ]
  },
  {
   "cell_type": "code",
   "execution_count": 3,
   "metadata": {
    "collapsed": true
   },
   "outputs": [],
   "source": [
    "y <- fm.materialize(fm.runif(325000000) > 0.5)"
   ]
  },
  {
   "cell_type": "code",
   "execution_count": 4,
   "metadata": {
    "collapsed": true
   },
   "outputs": [],
   "source": [
    "fm.print.mat.info(data)\n",
    "fm.print.mat.info(y)"
   ]
  },
  {
   "cell_type": "code",
   "execution_count": 5,
   "metadata": {},
   "outputs": [
    {
     "data": {
      "text/plain": [
       "NULL"
      ]
     },
     "metadata": {},
     "output_type": "display_data"
    }
   ],
   "source": [
    "fm.set.test.na(FALSE)"
   ]
  },
  {
   "cell_type": "code",
   "execution_count": 6,
   "metadata": {},
   "outputs": [
    {
     "name": "stdout",
     "output_type": "stream",
     "text": [
      "Time difference of 10.75789 secs\n"
     ]
    }
   ],
   "source": [
    "#for (i in 1:5) {\n",
    "    start <- Sys.time()\n",
    "    res <- cor(data)\n",
    "    end <- Sys.time()\n",
    "    print(end - start)\n",
    "#}"
   ]
  },
  {
   "cell_type": "code",
   "execution_count": 7,
   "metadata": {},
   "outputs": [
    {
     "name": "stdout",
     "output_type": "stream",
     "text": [
      "Time difference of 7.910566 secs\n"
     ]
    }
   ],
   "source": [
    "#for (i in 1:5) {\n",
    "    start <- Sys.time()\n",
    "    res <- fm.svd(data, nu=0, nv=ncol(data))\n",
    "    end <- Sys.time()\n",
    "    print(end - start)\n",
    "#}"
   ]
  },
  {
   "cell_type": "code",
   "execution_count": 8,
   "metadata": {},
   "outputs": [
    {
     "name": "stdout",
     "output_type": "stream",
     "text": [
      "Time difference of 5.2969 secs\n"
     ]
    }
   ],
   "source": [
    "start <- Sys.time()\n",
    "res <- naiveBayes.train(data, y)\n",
    "end <- Sys.time()\n",
    "print(end - start)"
   ]
  },
  {
   "cell_type": "code",
   "execution_count": 13,
   "metadata": {
    "collapsed": true
   },
   "outputs": [],
   "source": [
    "data1 <- fm.runif.matrix(336000000, 32, min = 0, max=1000)"
   ]
  },
  {
   "cell_type": "code",
   "execution_count": 17,
   "metadata": {},
   "outputs": [
    {
     "name": "stdout",
     "output_type": "stream",
     "text": [
      "KMeans takes 5 iterations and 194.669 seconds\n",
      "Time difference of 3.72801 mins\n"
     ]
    }
   ],
   "source": [
    "start <- Sys.time()\n",
    "res <- fm.kmeans(data1, 10, iter.max = 5)\n",
    "end <- Sys.time()\n",
    "print(end - start)"
   ]
  },
  {
   "cell_type": "code",
   "execution_count": 18,
   "metadata": {},
   "outputs": [
    {
     "name": "stdout",
     "output_type": "stream",
     "text": [
      "KMeans takes 5 iterations and 85.00836 seconds\n",
      "Time difference of 1.898707 mins\n"
     ]
    }
   ],
   "source": [
    "start <- Sys.time()\n",
    "res <- fm.kmeans(data1, 10, iter.max = 5, use.blas = TRUE)\n",
    "end <- Sys.time()\n",
    "print(end - start)"
   ]
  },
  {
   "cell_type": "code",
   "execution_count": 9,
   "metadata": {
    "collapsed": true
   },
   "outputs": [],
   "source": [
    "emdata <- fm.conv.store(data, in.mem = FALSE)"
   ]
  },
  {
   "cell_type": "code",
   "execution_count": 10,
   "metadata": {},
   "outputs": [
    {
     "name": "stdout",
     "output_type": "stream",
     "text": [
      "Time difference of 19.02066 secs\n"
     ]
    }
   ],
   "source": [
    "#for (i in 1:5) {\n",
    "    start <- Sys.time()\n",
    "    res <- cor(emdata)\n",
    "    end <- Sys.time()\n",
    "    print(end - start)\n",
    "#}"
   ]
  },
  {
   "cell_type": "code",
   "execution_count": 11,
   "metadata": {},
   "outputs": [
    {
     "name": "stdout",
     "output_type": "stream",
     "text": [
      "Time difference of 8.297276 secs\n"
     ]
    }
   ],
   "source": [
    "#for (i in 1:5) {\n",
    "    start <- Sys.time()\n",
    "    res <- fm.svd(emdata, nu=0, nv=ncol(data))\n",
    "    end <- Sys.time()\n",
    "    print(end - start)\n",
    "#}"
   ]
  },
  {
   "cell_type": "code",
   "execution_count": 14,
   "metadata": {},
   "outputs": [],
   "source": [
    "emdata1 <- fm.conv.store(data1, in.mem = FALSE)"
   ]
  },
  {
   "cell_type": "code",
   "execution_count": 15,
   "metadata": {},
   "outputs": [
    {
     "name": "stdout",
     "output_type": "stream",
     "text": [
      "KMeans takes 5 iterations and 71.71821 seconds\n",
      "Time difference of 1.619277 mins\n"
     ]
    }
   ],
   "source": [
    "start <- Sys.time()\n",
    "res <- fm.kmeans(emdata1, 10, iter.max = 5, use.blas = TRUE)\n",
    "end <- Sys.time()\n",
    "print(end - start)"
   ]
  },
  {
   "cell_type": "code",
   "execution_count": null,
   "metadata": {
    "collapsed": true
   },
   "outputs": [],
   "source": []
  }
 ],
 "metadata": {
  "kernelspec": {
   "display_name": "R",
   "language": "R",
   "name": "ir"
  },
  "language_info": {
   "codemirror_mode": "r",
   "file_extension": ".r",
   "mimetype": "text/x-r-source",
   "name": "R",
   "pygments_lexer": "r",
   "version": "3.4.1"
  }
 },
 "nbformat": 4,
 "nbformat_minor": 2
}
