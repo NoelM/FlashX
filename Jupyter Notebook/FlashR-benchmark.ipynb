{
 "cells": [
  {
   "cell_type": "code",
   "execution_count": 1,
   "metadata": {
    "scrolled": true
   },
   "outputs": [
    {
     "name": "stderr",
     "output_type": "stream",
     "text": [
      "Loading required package: pcg\n",
      "Loading required package: FlashR\n",
      "Loading required package: RSpectra\n",
      "Loading required package: Rcpp\n",
      "\n",
      "Attaching package: 'FlashR'\n",
      "\n",
      "The following objects are masked from 'package:base':\n",
      "\n",
      "    cbind, pmax, pmin, rbind\n",
      "\n"
     ]
    }
   ],
   "source": [
    "library(FlashRLearn)\n",
    "fm.set.conf(\"/FlashX/EC2/run_matrix.txt\")"
   ]
  },
  {
   "cell_type": "markdown",
   "metadata": {},
   "source": [
    "# Measure the performance of FlashR in memory."
   ]
  },
  {
   "cell_type": "code",
   "execution_count": 2,
   "metadata": {
    "collapsed": true
   },
   "outputs": [],
   "source": [
    "data <- fm.runif.matrix(325000000, 40, min = 0, max=1000)\n",
    "data <- as.integer(data)\n",
    "data <- fm.materialize(data)"
   ]
  },
  {
   "cell_type": "code",
   "execution_count": 3,
   "metadata": {
    "collapsed": true
   },
   "outputs": [],
   "source": [
    "y <- fm.materialize(fm.runif(325000000) > 0.5)"
   ]
  },
  {
   "cell_type": "code",
   "execution_count": 4,
   "metadata": {
    "collapsed": true
   },
   "outputs": [],
   "source": [
    "fm.print.mat.info(data)\n",
    "fm.print.mat.info(y)"
   ]
  },
  {
   "cell_type": "code",
   "execution_count": 5,
   "metadata": {},
   "outputs": [
    {
     "data": {
      "text/plain": [
       "NULL"
      ]
     },
     "metadata": {},
     "output_type": "display_data"
    }
   ],
   "source": [
    "fm.set.test.na(FALSE)"
   ]
  },
  {
   "cell_type": "code",
   "execution_count": 6,
   "metadata": {},
   "outputs": [
    {
     "name": "stdout",
     "output_type": "stream",
     "text": [
      "Time difference of 10.777 secs\n"
     ]
    }
   ],
   "source": [
    "#for (i in 1:5) {\n",
    "    start <- Sys.time()\n",
    "    res <- cor(data)\n",
    "    end <- Sys.time()\n",
    "    print(end - start)\n",
    "#}"
   ]
  },
  {
   "cell_type": "code",
   "execution_count": 7,
   "metadata": {},
   "outputs": [
    {
     "name": "stdout",
     "output_type": "stream",
     "text": [
      "Time difference of 7.960912 secs\n"
     ]
    }
   ],
   "source": [
    "#for (i in 1:5) {\n",
    "    start <- Sys.time()\n",
    "    res <- fm.svd(data, nu=0, nv=ncol(data))\n",
    "    end <- Sys.time()\n",
    "    print(end - start)\n",
    "#}"
   ]
  },
  {
   "cell_type": "code",
   "execution_count": 8,
   "metadata": {},
   "outputs": [
    {
     "name": "stdout",
     "output_type": "stream",
     "text": [
      "Time difference of 5.226341 secs\n"
     ]
    }
   ],
   "source": [
    "start <- Sys.time()\n",
    "res <- naiveBayes.train(data, y)\n",
    "end <- Sys.time()\n",
    "print(end - start)"
   ]
  },
  {
   "cell_type": "code",
   "execution_count": 9,
   "metadata": {
    "collapsed": true
   },
   "outputs": [],
   "source": [
    "data1 <- fm.runif.matrix(336000000, 32, min = 0, max=1000)"
   ]
  },
  {
   "cell_type": "code",
   "execution_count": 10,
   "metadata": {},
   "outputs": [
    {
     "name": "stdout",
     "output_type": "stream",
     "text": [
      "KMeans takes 5 iterations and 41.1684 seconds\n",
      "Time difference of 49.91022 secs\n"
     ]
    }
   ],
   "source": [
    "start <- Sys.time()\n",
    "res <- fm.kmeans(data1, 10, iter.max = 5, use.blas = TRUE)\n",
    "end <- Sys.time()\n",
    "print(end - start)"
   ]
  },
  {
   "cell_type": "code",
   "execution_count": 19,
   "metadata": {
    "collapsed": true
   },
   "outputs": [],
   "source": [
    "esti.cov.full <- function(X, resp, nk, means, reg.covar)\n",
    "{\n",
    "\tk <- nrow(means)\n",
    "\td <- ncol(means)\n",
    "\tcovs <- list()\n",
    "\tfor (i in 1:k) {\n",
    "\t\tdiff <- sweep(X, 2, means[i,], \"-\")\n",
    "\t\tcovs[[i]] <- t(resp[,i] * diff) %*% diff / nk[i]\n",
    "\t}\n",
    "\tlapply(covs, function(x) as.matrix(x) + diag(rep(reg.covar, d)))\n",
    "}\n",
    "\n",
    "# In this case, we assume all Gaussian distribution has the same covariance matrix.\n",
    "esti.cov.tied <- function(X, resp, nk, means, reg.covar)\n",
    "{\n",
    "\tavg.X2 <- t(X) %*% X\n",
    "\tavg.means2 <- t(means * nk) %*% means\n",
    "\tas.matrix((avg.X2 - avg.means2) / sum(nk)) + diag(rep(reg.covar, d))\n",
    "}\n",
    "\n",
    "esti.cov.diag <- function(X, resp, nk, means, reg.covar)\n",
    "{\n",
    "\tavg.X2 <- t(resp) %*% (X * X) / nk\n",
    "\tavg.means2 <- means^2\n",
    "\tavg.Xmeans <- means * (t(resp) %*% X) / nk\n",
    "\tcovars <- as.matrix(avg.X2 - 2*avg.Xmeans + avg.means2)\n",
    "\tifelse(covars < reg.covar, reg.covar, covars)\n",
    "}\n",
    "\n",
    "esti.cov.spherical <- function(X, resp, nk, means, reg.covar)\n",
    "{\n",
    "\trowMeans(esti.cov.diag(X, resp, nk, means, reg.covar))\n",
    "}\n",
    "\n",
    "# This estimate the parameters of Mixture of Gaussian\n",
    "esti.gaussian.params <- function(X, resp, reg.covar, cov.type)\n",
    "{\n",
    "\tn <- nrow(X)\n",
    "\tnk <- colSums(resp)\n",
    "\t# a k x d matrix. Each row is the mean of a component.\n",
    "\tmeans <- t(resp) %*% X / nk\n",
    "\t# a list of covariance matrices for all components.\n",
    "\tcovs <- if (cov.type == \"full\") esti.cov.full(X, resp, nk, means, reg.covar)\n",
    "\t\telse if (cov.type == \"tied\") esti.cov.tied(X, resp, nk, means, reg.covar)\n",
    "\t\telse if (cov.type == \"diag\") esti.cov.diag(X, resp, nk, means, reg.covar)\n",
    "\t\telse if (cov.type == \"spherical\") esti.cov.spherical(X, resp, nk, means, reg.covar)\n",
    "\t\telse NULL\n",
    "\tlist(weights=as.vector(nk)/n, means=as.matrix(means), covs=covs)\n",
    "}\n",
    "\n",
    "init.params <- function(X, k, reg.covar, method, cov.type)\n",
    "{\n",
    "\tN <- nrow(X)\n",
    "\tif (method == \"kmeans\") {\n",
    "\t\tres <- fm.kmeans(X, k, 100)\n",
    "\t\tresp <- fm.matrix(0, nrow(X), k)\n",
    "\t\tidx <- cbind(fm.seq.int(1, nrow(X), 1), res$cluster)\n",
    "\t\tresp[idx] <- 1\n",
    "\t\t# Estimate weights, means and covariances\n",
    "\t\tparams <- esti.gaussian.params(X, resp, reg.covar, cov.type)\n",
    "\t\tlist(weights=params$weights, means=params$means, covs=params$covs)\n",
    "\t}\n",
    "\telse if (method == \"random\") {\n",
    "\t\tresp <- fm.runif.matrix(N, k, in.mem=fm.in.mem(X))\n",
    "\t\t# each row needs to sum up to 1.\n",
    "\t\tresp <- resp / rowSums(resp)\n",
    "\t\t# Estimate weights, means and covariances\n",
    "\t\tparams <- esti.gaussian.params(X, resp, reg.covar, cov.type)\n",
    "\t\tlist(weights=params$weights, means=params$means, covs=params$covs)\n",
    "\t}\n",
    "\telse if (method == \"random_params\") {\n",
    "\t\tm <- dim(X)[1]\n",
    "\t\trand.k <- floor(runif(k, 1, m))\n",
    "\t\tmus <- X[rand.k,]\n",
    "\t\tinit.covar <- cov(X)\n",
    "\t\tcovars <- list()\n",
    "\t\tfor (i in 1:k)\n",
    "\t\t\tcovars[[i]] <- init.covar\n",
    "\t\tphi <- rep.int(1/m, k)\n",
    "\t\tlist(weights=phi, means=mus, covs=covars)\n",
    "\t}\n",
    "\telse\n",
    "\t\tstop(\"unknown init method\")\n",
    "}\n",
    "\n",
    "est.logprob <- function(X, means, covars, cov.type)\n",
    "{\n",
    "\tn <- nrow(X)\n",
    "\td <- ncol(X)\n",
    "\tk <- nrow(means)\n",
    "\n",
    "\tcomp.logprob.vec <- function(X, mu, covar.vec) {\n",
    "\t\tX1 <- sweep(X, 2, mu, \"-\")\n",
    "\t\tX2 <- sweep(X1, 2, covar.vec, \"/\")\n",
    "\t\trowSums(X2 * X1)\n",
    "\t}\n",
    "\n",
    "\tif (cov.type == \"full\") {\n",
    "\t\tlogprob <- list()\n",
    "\t\tfor (i in 1:k)\n",
    "\t\t\tlogprob[[i]] <- fm.dmvnorm(X, means[i,], covars[[i]], log=TRUE)\n",
    "\t\treturn(do.call(cbind, logprob))\n",
    "\t}\n",
    "\telse if (cov.type == \"tied\") {\n",
    "\t\tlogprob <- list()\n",
    "\t\tfor (i in 1:k)\n",
    "\t\t\tlogprob[[i]] <- fm.dmvnorm(X, means[i,], covars, log=TRUE)\n",
    "\t\treturn(do.call(cbind, logprob))\n",
    "\t}\n",
    "\telse if (cov.type == \"diag\") {\n",
    "\t\tlogprob <- list()\n",
    "\t\tfor (i in 1:k) {\n",
    "\t\t\tlogprob[[i]] <- comp.logprob.vec(X, means[i,], covars[i,])\n",
    "\t\t\tlogprob[[i]] <- -sum(log(covars[i,]))/2 - 0.5 * (d * log(2 * pi) + logprob[[i]])\n",
    "\t\t}\n",
    "\t\treturn(do.call(cbind, logprob))\n",
    "\t}\n",
    "\telse if (cov.type == \"spherical\") {\n",
    "\t\tlogprob <- list()\n",
    "\t\tfor (i in 1:k) {\n",
    "\t\t\tlogprob[[i]] <- comp.logprob.vec(X, means[i,], rep(covars[i], d))\n",
    "\t\t\tlogprob[[i]] <- -log(covars[i])*d/2 - 0.5 * (d * log(2 * pi) + logprob[[i]])\n",
    "\t\t}\n",
    "\t\treturn(do.call(cbind, logprob))\n",
    "\t}\n",
    "}\n",
    "\n",
    "est.weighted.logprob <- function(X, means, covars, cov.type, weights)\n",
    "{\n",
    "\tret <- est.logprob(X, means, covars, cov.type)\n",
    "#\tret <- fm.materialize(est.logprob(X, means, covars, cov.type))\n",
    "\tsweep(ret, 2, log(weights), \"+\")\n",
    "}\n",
    "\n",
    "logsumexp <- function(X)\n",
    "{\n",
    "\tmax.X <- fm.agg.mat(X, 1, fm.bo.max)\n",
    "\tlog(rowSums(exp(X - max.X))) + max.X\n",
    "}\n",
    "\n",
    "# Estimate the log likelihood\n",
    "# @return norm\n",
    "# @return resp is a n x k matrix. It indicates the probability\n",
    "#        that a data point belongs to a cluster.\n",
    "fm.estep <- function(X, params, cov.type)\n",
    "{\n",
    "\tweighted.logprob <- est.weighted.logprob(X, params$means,\n",
    "\t\t\t\t\t\t\t\t\t\t\t params$covs, cov.type,\n",
    "\t\t\t\t\t\t\t\t\t\t\t params$weights)\n",
    "\tlogprob.norm <- logsumexp(weighted.logprob)\n",
    "\tlog.resp <- weighted.logprob - logprob.norm\n",
    "\tnorm <- mean(logprob.norm)\n",
    "\tfm.materialize(log.resp, logprob.norm, norm)\n",
    "\tlist(norm=as.vector(norm), resp=log.resp)\n",
    "}\n",
    "\n",
    "# This estimate the parameters.\n",
    "fm.mstep <- function(X, log.resp, reg.covar, cov.type)\n",
    "{\n",
    "\tparams <- esti.gaussian.params(X, exp(log.resp), reg.covar, cov.type)\n",
    "\tlist(weights=params$weights, means=params$means, covs=params$covs)\n",
    "}\n",
    "\n",
    "compute.lower.bound <- function(log.resp, log.norm)\n",
    "{\n",
    "\tlog.norm\n",
    "}\n",
    "\n",
    "# Fit a mixture of Gaussian distribution on the data.\n",
    "#\n",
    "# @param X is a n x d matrix. It's the input data.\n",
    "# @param k the number of components.\n",
    "# @param reg.covar is a real value. It's added to the diagonal of\n",
    "#        the covariance matrix to make it non-singular.\n",
    "# @param cov.type is the type of covariance matrix. It can be\n",
    "#        one of {\"full\", \"tied\", \"diag\", \"spherical\"}.\n",
    "#        \\itemize{\n",
    "#        \\item{\"full\"}{each component has its own general covariance matrix.}\n",
    "#        \\item{\"tied\"}{all components share the same general covariance matrix.}\n",
    "#        \\item{\"diag\"}{each component has its own diagonal covariance matrix.}\n",
    "#        \\item{\"spherical\"}{each component has its own single variance.}\n",
    "#        }\n",
    "# @return \n",
    "#        \\itemize{\n",
    "#        \\item{loglik}{a n x k matrix, whose \\code{[i, k]}th entry is\n",
    "#                the conditional probability of the ith observation\n",
    "#                belonging to the kth component of the mixture.}\n",
    "#        \\item{iter}{the number of iterations}\n",
    "#        \\item{parameters}{parameters of the mixture of Gaussian distribution.\n",
    "#             \\itemize{\n",
    "#             \\item{weights}{a vector of k elements. Each element is\n",
    "#              the weight of the Gaussian distribution in the mixture.}\n",
    "#             \\item{means}{a k x d matrix. Each row is the mean of a Gaussian distribution.}\n",
    "#             \\item{covs}{a list of matrices, a matrix or a vector, depending on \\code{cov.type}}}\n",
    "#        }\n",
    "GMM.fit <- function(X, k, max.iter=100, tol=1e-3, reg.covar=1e-6,\n",
    "\t\t\t\t\tmethod=c(\"random\", \"random_params\", \"kmeans\"),\n",
    "\t\t\t\t\tcov.type=c(\"full\", \"tied\", \"diag\", \"spherical\"))\n",
    "{\n",
    "\tmethod <- match.arg(method)\n",
    "\tcov.type <- match.arg(cov.type)\n",
    "\tparams <- init.params(X, k, reg.covar, method, cov.type)\n",
    "\tfor (i in 1:max.iter) {\n",
    "\t\teret <- fm.estep(X, params, cov.type)\n",
    "\t\tparams <- fm.mstep(X, eret$resp, reg.covar, cov.type)\n",
    "\t\tlb <- compute.lower.bound(eret$resp, eret$norm)\n",
    "\t\tif (i > 5 && abs(lb - prev.lb) < tol)\n",
    "\t\t\tbreak\n",
    "\t\tprev.lb <- lb\n",
    "\t\tgc()\n",
    "\t}\n",
    "\tstructure(list(loglik=eret$resp, score=eret$norm, iter=i,\n",
    "\t\t\t\t   cov.type=cov.type, parameters=params), class=\"GMM\")\n",
    "}\n"
   ]
  },
  {
   "cell_type": "code",
   "execution_count": 20,
   "metadata": {},
   "outputs": [
    {
     "name": "stdout",
     "output_type": "stream",
     "text": [
      "Time difference of 20.30929 mins\n"
     ]
    }
   ],
   "source": [
    "start <- Sys.time()\n",
    "res <- GMM.fit(data1, 10, max.iter = 5, method = \"random_params\")\n",
    "end <- Sys.time()\n",
    "print(end - start)"
   ]
  },
  {
   "cell_type": "markdown",
   "metadata": {},
   "source": [
    "# Measure the performance of FlashR on SSDs"
   ]
  },
  {
   "cell_type": "code",
   "execution_count": 16,
   "metadata": {
    "collapsed": true
   },
   "outputs": [],
   "source": [
    "emdata <- fm.conv.store(data, in.mem = FALSE)\n",
    "emy <- fm.conv.store(y, in.mem = FALSE)"
   ]
  },
  {
   "cell_type": "code",
   "execution_count": 12,
   "metadata": {},
   "outputs": [
    {
     "name": "stdout",
     "output_type": "stream",
     "text": [
      "Time difference of 11.23371 secs\n"
     ]
    }
   ],
   "source": [
    "#for (i in 1:5) {\n",
    "    start <- Sys.time()\n",
    "    res <- cor(emdata)\n",
    "    end <- Sys.time()\n",
    "    print(end - start)\n",
    "#}"
   ]
  },
  {
   "cell_type": "code",
   "execution_count": 13,
   "metadata": {},
   "outputs": [
    {
     "name": "stdout",
     "output_type": "stream",
     "text": [
      "Time difference of 8.299418 secs\n"
     ]
    }
   ],
   "source": [
    "#for (i in 1:5) {\n",
    "    start <- Sys.time()\n",
    "    res <- fm.svd(emdata, nu=0, nv=ncol(data))\n",
    "    end <- Sys.time()\n",
    "    print(end - start)\n",
    "#}"
   ]
  },
  {
   "cell_type": "code",
   "execution_count": 17,
   "metadata": {},
   "outputs": [
    {
     "name": "stdout",
     "output_type": "stream",
     "text": [
      "Time difference of 6.054668 secs\n"
     ]
    }
   ],
   "source": [
    "start <- Sys.time()\n",
    "res <- naiveBayes.train(emdata, emy)\n",
    "end <- Sys.time()\n",
    "print(end - start)"
   ]
  },
  {
   "cell_type": "code",
   "execution_count": 14,
   "metadata": {
    "collapsed": true
   },
   "outputs": [],
   "source": [
    "emdata1 <- fm.conv.store(data1, in.mem = FALSE)"
   ]
  },
  {
   "cell_type": "code",
   "execution_count": 15,
   "metadata": {},
   "outputs": [
    {
     "name": "stdout",
     "output_type": "stream",
     "text": [
      "KMeans takes 5 iterations and 59.61842 seconds\n",
      "Time difference of 1.182798 mins\n"
     ]
    }
   ],
   "source": [
    "start <- Sys.time()\n",
    "res <- fm.kmeans(emdata1, 10, iter.max = 5, use.blas = TRUE)\n",
    "end <- Sys.time()\n",
    "print(end - start)"
   ]
  },
  {
   "cell_type": "code",
   "execution_count": 21,
   "metadata": {},
   "outputs": [
    {
     "name": "stdout",
     "output_type": "stream",
     "text": [
      "Time difference of 20.80116 mins\n"
     ]
    }
   ],
   "source": [
    "start <- Sys.time()\n",
    "res <- GMM.fit(emdata1, 10, max.iter = 5, method = \"random_params\")\n",
    "end <- Sys.time()\n",
    "print(end - start)"
   ]
  },
  {
   "cell_type": "markdown",
   "metadata": {},
   "source": [
    "# Measure the performance of logistic regression\n",
    "\n",
    "This requires to use a real-world dataset."
   ]
  },
  {
   "cell_type": "code",
   "execution_count": 2,
   "metadata": {
    "collapsed": true
   },
   "outputs": [],
   "source": [
    "data <- fm.read.obj(\"/mnt/data/Criteo_2days.mat\")"
   ]
  },
  {
   "cell_type": "code",
   "execution_count": 4,
   "metadata": {},
   "outputs": [
    {
     "name": "stdout",
     "output_type": "stream",
     "text": [
      "[1] \"cost=0.693147180559947, grad=10843505.5358365\"\n",
      "[1] \"cost=764003.400438973, grad=765598.641434945\"\n",
      "[1] \"cost=230656.518893013, grad=765598.641432455\"\n",
      "[1] \"cost=69636.3965749515, grad=765598.641013303\"\n",
      "[1] \"cost=21023.6071714191, grad=765598.61732509\"\n",
      "[1] \"cost=6347.16156844917, grad=765598.382012076\"\n",
      "[1] \"cost=1916.27325607795, grad=765596.063092687\"\n",
      "[1] \"cost=578.573503513273, grad=765590.646832222\"\n",
      "[1] \"cost=174.71843061944, grad=765587.609972131\"\n",
      "[1] \"cost=52.7929091937702, grad=765586.689310092\"\n",
      "[1] \"cost=15.982987309764, grad=765586.422706491\"\n",
      "[1] \"cost=4.86995906609609, grad=765586.337194358\"\n",
      "[1] \"cost=1.51517971894398, grad=765584.98068753\"\n",
      "[1] \"cost=0.503526057994861, grad=764573.682139315\"\n",
      "Iteration 1: \n",
      "fx = 0.503526\n",
      "\n",
      "  xnorm = 6.22987e-07, gnorm = 764574, step = 5.74525e-14\n",
      "\n",
      "[1] \"cost=0.472174545891044, grad=764084.806030295\"\n",
      "[1] \"cost=0.3472624872472, grad=755794.086766267\"\n",
      "[1] \"cost=5.35974636061091, grad=22247550.098131\"\n",
      "[1] \"cost=0.30774941233625, grad=745597.015210506\"\n",
      "[1] \"cost=1.13740235713609, grad=15529283.805958\"\n",
      "[1] \"cost=0.21492067753446, grad=609147.113594736\"\n",
      "Iteration 2: \n",
      "fx = 0.214921\n",
      "\n",
      "  xnorm = 2.34754e-07, gnorm = 609147, step = 9.51115\n",
      "\n",
      "[1] \"cost=30.7476294443285, grad=22451028.2122337\"\n",
      "[1] \"cost=0.206436364354252, grad=568318.85862977\"\n",
      "[1] \"cost=0.184608201378378, grad=509173.383545786\"\n",
      "Iteration 3: \n",
      "fx = 0.184608\n",
      "\n",
      "  xnorm = 1.33398e-07, gnorm = 509173, step = 0.0696611\n",
      "\n",
      "[1] \"cost=0.183149515354839, grad=304776.400340325\"\n",
      "Iteration 4: \n",
      "fx = 0.18315\n",
      "\n",
      "  xnorm = 1.77147e-07, gnorm = 304776, step = 1\n",
      "\n",
      "[1] \"cost=0.178808386675432, grad=107250.215752168\"\n",
      "Iteration 5: \n",
      "fx = 0.178808\n",
      "\n",
      "  xnorm = 1.63122e-07, gnorm = 107250, step = 1\n",
      "\n",
      "[1] \"cost=0.178205351360498, grad=74005.5411581628\"\n",
      "Iteration 6: \n",
      "fx = 0.178205\n",
      "\n",
      "  xnorm = 1.58093e-07, gnorm = 74005.5, step = 1\n",
      "\n",
      "[1] \"cost=0.177994217941807, grad=44082.7030721421\"\n",
      "Iteration 7: \n",
      "fx = 0.177994\n",
      "\n",
      "  xnorm = 1.59744e-07, gnorm = 44082.7, step = 1\n",
      "\n",
      "[1] \"cost=0.177585491321007, grad=38018.1318272119\"\n",
      "Iteration 8: \n",
      "fx = 0.177585\n",
      "\n",
      "  xnorm = 1.63507e-07, gnorm = 38018.1, step = 1\n",
      "\n",
      "[1] \"cost=0.177217232572725, grad=41952.3222621813\"\n",
      "Iteration 9: \n",
      "fx = 0.177217\n",
      "\n",
      "  xnorm = 1.68786e-07, gnorm = 41952.3, step = 1\n",
      "\n",
      "[1] \"cost=0.176647213521333, grad=43474.1064758435\"\n",
      "Iteration 10: \n",
      "fx = 0.176647\n",
      "\n",
      "  xnorm = 1.82494e-07, gnorm = 43474.1, step = 1\n",
      "\n",
      "[1] \"cost=0.175961348499345, grad=26809.7696621959\"\n",
      "Iteration 11: \n",
      "fx = 0.175961\n",
      "\n",
      "  xnorm = 2.15889e-07, gnorm = 26809.8, step = 1\n",
      "\n",
      "[1] \"cost=0.175360545740123, grad=37155.2115965532\"\n",
      "Iteration 12: \n",
      "fx = 0.175361\n",
      "\n",
      "  xnorm = 2.66637e-07, gnorm = 37155.2, step = 1\n",
      "\n",
      "[1] \"cost=0.175077669202663, grad=19540.1476407501\"\n",
      "Iteration 13: \n",
      "fx = 0.175078\n",
      "\n",
      "  xnorm = 3.04218e-07, gnorm = 19540.1, step = 1\n",
      "\n",
      "[1] \"cost=0.17500047380361, grad=20629.8868906541\"\n",
      "Iteration 14: \n",
      "fx = 0.175\n",
      "\n",
      "  xnorm = 2.99565e-07, gnorm = 20629.9, step = 1\n",
      "\n",
      "L-BFGS optimization terminated with status code = -997\n",
      "fx = 0.175\n",
      "\n",
      "Time difference of 3.151152 mins\n"
     ]
    }
   ],
   "source": [
    "start <- Sys.time()\n",
    "res <- logistic.regression(data[,2:40], data[,1], method=\"L-BFGS-B\", max.iters=14)\n",
    "end <- Sys.time()\n",
    "print(end - start)"
   ]
  },
  {
   "cell_type": "code",
   "execution_count": 5,
   "metadata": {
    "collapsed": true
   },
   "outputs": [],
   "source": [
    "emdata <- fm.conv.store(data, in.mem=FALSE)"
   ]
  },
  {
   "cell_type": "code",
   "execution_count": 6,
   "metadata": {},
   "outputs": [
    {
     "name": "stdout",
     "output_type": "stream",
     "text": [
      "[1] \"cost=0.693147180559947, grad=10843505.5358365\"\n",
      "[1] \"cost=764003.400438973, grad=765598.641434945\"\n",
      "[1] \"cost=230656.518893013, grad=765598.641432455\"\n",
      "[1] \"cost=69636.3965749515, grad=765598.641013303\"\n",
      "[1] \"cost=21023.6071714191, grad=765598.61732509\"\n",
      "[1] \"cost=6347.16156844917, grad=765598.382012076\"\n",
      "[1] \"cost=1916.27325607795, grad=765596.063092687\"\n",
      "[1] \"cost=578.573503513273, grad=765590.646832222\"\n",
      "[1] \"cost=174.71843061944, grad=765587.609972131\"\n",
      "[1] \"cost=52.7929091937702, grad=765586.689310092\"\n",
      "[1] \"cost=15.982987309764, grad=765586.422706491\"\n",
      "[1] \"cost=4.86995906609609, grad=765586.337194358\"\n",
      "[1] \"cost=1.51517971894398, grad=765584.98068753\"\n",
      "[1] \"cost=0.503526057994861, grad=764573.682139315\"\n",
      "Iteration 1: \n",
      "fx = 0.503526\n",
      "\n",
      "  xnorm = 6.22987e-07, gnorm = 764574, step = 5.74525e-14\n",
      "\n",
      "[1] \"cost=0.472174545891044, grad=764084.806030295\"\n",
      "[1] \"cost=0.3472624872472, grad=755794.086766267\"\n",
      "[1] \"cost=5.35974636061092, grad=22247550.098131\"\n",
      "[1] \"cost=0.30774941233625, grad=745597.015210506\"\n",
      "[1] \"cost=1.13740235713609, grad=15529283.805958\"\n",
      "[1] \"cost=0.21492067753446, grad=609147.113594736\"\n",
      "Iteration 2: \n",
      "fx = 0.214921\n",
      "\n",
      "  xnorm = 2.34754e-07, gnorm = 609147, step = 9.51115\n",
      "\n",
      "[1] \"cost=30.7476294443285, grad=22451028.2122337\"\n",
      "[1] \"cost=0.206436364354252, grad=568318.85862977\"\n",
      "[1] \"cost=0.184608201378159, grad=509173.383534187\"\n",
      "Iteration 3: \n",
      "fx = 0.184608\n",
      "\n",
      "  xnorm = 1.33398e-07, gnorm = 509173, step = 0.0696611\n",
      "\n",
      "[1] \"cost=0.183149515354697, grad=304776.400336609\"\n",
      "Iteration 4: \n",
      "fx = 0.18315\n",
      "\n",
      "  xnorm = 1.77147e-07, gnorm = 304776, step = 1\n",
      "\n",
      "[1] \"cost=0.178808386675405, grad=107250.215749456\"\n",
      "Iteration 5: \n",
      "fx = 0.178808\n",
      "\n",
      "  xnorm = 1.63122e-07, gnorm = 107250, step = 1\n",
      "\n",
      "[1] \"cost=0.178205351360491, grad=74005.5411560862\"\n",
      "Iteration 6: \n",
      "fx = 0.178205\n",
      "\n",
      "  xnorm = 1.58093e-07, gnorm = 74005.5, step = 1\n",
      "\n",
      "[1] \"cost=0.177994217941804, grad=44082.7030724668\"\n",
      "Iteration 7: \n",
      "fx = 0.177994\n",
      "\n",
      "  xnorm = 1.59744e-07, gnorm = 44082.7, step = 1\n",
      "\n",
      "[1] \"cost=0.177585491320965, grad=38018.1318273261\"\n",
      "Iteration 8: \n",
      "fx = 0.177585\n",
      "\n",
      "  xnorm = 1.63507e-07, gnorm = 38018.1, step = 1\n",
      "\n",
      "[1] \"cost=0.177217232572698, grad=41952.3222608151\"\n",
      "Iteration 9: \n",
      "fx = 0.177217\n",
      "\n",
      "  xnorm = 1.68786e-07, gnorm = 41952.3, step = 1\n",
      "\n",
      "[1] \"cost=0.176647213521281, grad=43474.1064771271\"\n",
      "Iteration 10: \n",
      "fx = 0.176647\n",
      "\n",
      "  xnorm = 1.82494e-07, gnorm = 43474.1, step = 1\n",
      "\n",
      "[1] \"cost=0.175961348499321, grad=26809.7696578549\"\n",
      "Iteration 11: \n",
      "fx = 0.175961\n",
      "\n",
      "  xnorm = 2.15889e-07, gnorm = 26809.8, step = 1\n",
      "\n",
      "[1] \"cost=0.175360545739991, grad=37155.2115731549\"\n",
      "Iteration 12: \n",
      "fx = 0.175361\n",
      "\n",
      "  xnorm = 2.66637e-07, gnorm = 37155.2, step = 1\n",
      "\n",
      "[1] \"cost=0.175077669202719, grad=19540.1476592343\"\n",
      "Iteration 13: \n",
      "fx = 0.175078\n",
      "\n",
      "  xnorm = 3.04218e-07, gnorm = 19540.1, step = 1\n",
      "\n",
      "[1] \"cost=0.175000473803627, grad=20629.8869060862\"\n",
      "Iteration 14: \n",
      "fx = 0.175\n",
      "\n",
      "  xnorm = 2.99565e-07, gnorm = 20629.9, step = 1\n",
      "\n",
      "L-BFGS optimization terminated with status code = -997\n",
      "fx = 0.175\n",
      "\n",
      "Time difference of 3.639074 mins\n"
     ]
    }
   ],
   "source": [
    "start <- Sys.time()\n",
    "res <- logistic.regression(emdata[,2:40], emdata[,1], method=\"L-BFGS-B\", max.iters=14)\n",
    "end <- Sys.time()\n",
    "print(end - start)"
   ]
  },
  {
   "cell_type": "code",
   "execution_count": null,
   "metadata": {
    "collapsed": true
   },
   "outputs": [],
   "source": []
  }
 ],
 "metadata": {
  "kernelspec": {
   "display_name": "R",
   "language": "R",
   "name": "ir"
  },
  "language_info": {
   "codemirror_mode": "r",
   "file_extension": ".r",
   "mimetype": "text/x-r-source",
   "name": "R",
   "pygments_lexer": "r",
   "version": "3.4.1"
  }
 },
 "nbformat": 4,
 "nbformat_minor": 2
}
